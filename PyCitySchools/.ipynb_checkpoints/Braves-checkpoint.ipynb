{
 "cells": [
  {
   "cell_type": "code",
   "execution_count": 3,
   "id": "9bbdddb9",
   "metadata": {},
   "outputs": [],
   "source": [
    "import pandas as pd"
   ]
  },
  {
   "cell_type": "code",
   "execution_count": 4,
   "id": "2767d607",
   "metadata": {},
   "outputs": [],
   "source": [
    "Braves = [\"Acuna\", \"Swanson\", \"Olsen\", \"Riley\", \"Ozuna\", \"d'Arnaud\", \"Duval\", \"Arcia\", \"Harris\"]\n",
    "bravesSeries = pd.Series(Braves)\n"
   ]
  },
  {
   "cell_type": "code",
   "execution_count": 5,
   "id": "301ec14d",
   "metadata": {},
   "outputs": [
    {
     "data": {
      "text/plain": [
       "0       Acuna\n",
       "1     Swanson\n",
       "2       Olsen\n",
       "3       Riley\n",
       "4       Ozuna\n",
       "5    d'Arnaud\n",
       "6       Duval\n",
       "7       Arcia\n",
       "8      Harris\n",
       "dtype: object"
      ]
     },
     "execution_count": 5,
     "metadata": {},
     "output_type": "execute_result"
    }
   ],
   "source": [
    "bravesSeries"
   ]
  },
  {
   "cell_type": "code",
   "execution_count": 6,
   "id": "79636392",
   "metadata": {},
   "outputs": [
    {
     "data": {
      "text/plain": [
       "[{'Player': 'Acuna', 'Position': 'OF'},\n",
       " {'Player': 'Swanson', 'Position': 'SS'},\n",
       " {'Player': 'Olsen', 'Position': '1B'},\n",
       " {'Player': 'Riley', 'Position': '3B'},\n",
       " {'Player': 'Ozuna', 'Position': 'DH'},\n",
       " {'Player': \"d'Arnaud\", 'Position': 'C'},\n",
       " {'Player': 'Duval', 'Position': 'OF'},\n",
       " {'Player': 'Arcia', 'Position': '2B'},\n",
       " {'Player': 'Harris', 'Position': 'OF'}]"
      ]
     },
     "execution_count": 6,
     "metadata": {},
     "output_type": "execute_result"
    }
   ],
   "source": [
    "bravesDict = [{\"Player\": \"Acuna\", \"Position\": \"OF\"},\n",
    "              {\"Player\": \"Swanson\", \"Position\": \"SS\"},\n",
    "              {\"Player\": \"Olsen\", \"Position\": \"1B\"},\n",
    "              {\"Player\": \"Riley\", \"Position\": \"3B\"},\n",
    "              {\"Player\": \"Ozuna\", \"Position\": \"DH\"},\n",
    "              {\"Player\": \"d'Arnaud\", \"Position\": \"C\"},\n",
    "              {\"Player\": \"Duval\", \"Position\": \"OF\"},\n",
    "              {\"Player\": \"Arcia\", \"Position\": \"2B\"},\n",
    "              {\"Player\": \"Harris\", \"Position\": \"OF\"}]\n",
    "bravesDict"
   ]
  },
  {
   "cell_type": "code",
   "execution_count": 7,
   "id": "1a26636b",
   "metadata": {},
   "outputs": [],
   "source": [
    "braves_df = pd.DataFrame(bravesDict)"
   ]
  },
  {
   "cell_type": "code",
   "execution_count": 8,
   "id": "b7670d2c",
   "metadata": {},
   "outputs": [
    {
     "data": {
      "text/html": [
       "<div>\n",
       "<style scoped>\n",
       "    .dataframe tbody tr th:only-of-type {\n",
       "        vertical-align: middle;\n",
       "    }\n",
       "\n",
       "    .dataframe tbody tr th {\n",
       "        vertical-align: top;\n",
       "    }\n",
       "\n",
       "    .dataframe thead th {\n",
       "        text-align: right;\n",
       "    }\n",
       "</style>\n",
       "<table border=\"1\" class=\"dataframe\">\n",
       "  <thead>\n",
       "    <tr style=\"text-align: right;\">\n",
       "      <th></th>\n",
       "      <th>Player</th>\n",
       "      <th>Position</th>\n",
       "    </tr>\n",
       "  </thead>\n",
       "  <tbody>\n",
       "    <tr>\n",
       "      <th>0</th>\n",
       "      <td>Acuna</td>\n",
       "      <td>OF</td>\n",
       "    </tr>\n",
       "    <tr>\n",
       "      <th>1</th>\n",
       "      <td>Swanson</td>\n",
       "      <td>SS</td>\n",
       "    </tr>\n",
       "    <tr>\n",
       "      <th>2</th>\n",
       "      <td>Olsen</td>\n",
       "      <td>1B</td>\n",
       "    </tr>\n",
       "    <tr>\n",
       "      <th>3</th>\n",
       "      <td>Riley</td>\n",
       "      <td>3B</td>\n",
       "    </tr>\n",
       "    <tr>\n",
       "      <th>4</th>\n",
       "      <td>Ozuna</td>\n",
       "      <td>DH</td>\n",
       "    </tr>\n",
       "    <tr>\n",
       "      <th>5</th>\n",
       "      <td>d'Arnaud</td>\n",
       "      <td>C</td>\n",
       "    </tr>\n",
       "    <tr>\n",
       "      <th>6</th>\n",
       "      <td>Duval</td>\n",
       "      <td>OF</td>\n",
       "    </tr>\n",
       "    <tr>\n",
       "      <th>7</th>\n",
       "      <td>Arcia</td>\n",
       "      <td>2B</td>\n",
       "    </tr>\n",
       "    <tr>\n",
       "      <th>8</th>\n",
       "      <td>Harris</td>\n",
       "      <td>OF</td>\n",
       "    </tr>\n",
       "  </tbody>\n",
       "</table>\n",
       "</div>"
      ],
      "text/plain": [
       "     Player Position\n",
       "0     Acuna       OF\n",
       "1   Swanson       SS\n",
       "2     Olsen       1B\n",
       "3     Riley       3B\n",
       "4     Ozuna       DH\n",
       "5  d'Arnaud        C\n",
       "6     Duval       OF\n",
       "7     Arcia       2B\n",
       "8    Harris       OF"
      ]
     },
     "execution_count": 8,
     "metadata": {},
     "output_type": "execute_result"
    }
   ],
   "source": [
    "braves_df"
   ]
  },
  {
   "cell_type": "code",
   "execution_count": 9,
   "id": "cfcaced0",
   "metadata": {},
   "outputs": [
    {
     "data": {
      "text/html": [
       "<div>\n",
       "<style scoped>\n",
       "    .dataframe tbody tr th:only-of-type {\n",
       "        vertical-align: middle;\n",
       "    }\n",
       "\n",
       "    .dataframe tbody tr th {\n",
       "        vertical-align: top;\n",
       "    }\n",
       "\n",
       "    .dataframe thead th {\n",
       "        text-align: right;\n",
       "    }\n",
       "</style>\n",
       "<table border=\"1\" class=\"dataframe\">\n",
       "  <thead>\n",
       "    <tr style=\"text-align: right;\">\n",
       "      <th></th>\n",
       "      <th>Player</th>\n",
       "      <th>Position</th>\n",
       "    </tr>\n",
       "  </thead>\n",
       "  <tbody>\n",
       "    <tr>\n",
       "      <th>count</th>\n",
       "      <td>9</td>\n",
       "      <td>9</td>\n",
       "    </tr>\n",
       "    <tr>\n",
       "      <th>unique</th>\n",
       "      <td>9</td>\n",
       "      <td>7</td>\n",
       "    </tr>\n",
       "    <tr>\n",
       "      <th>top</th>\n",
       "      <td>Acuna</td>\n",
       "      <td>OF</td>\n",
       "    </tr>\n",
       "    <tr>\n",
       "      <th>freq</th>\n",
       "      <td>1</td>\n",
       "      <td>3</td>\n",
       "    </tr>\n",
       "  </tbody>\n",
       "</table>\n",
       "</div>"
      ],
      "text/plain": [
       "       Player Position\n",
       "count       9        9\n",
       "unique      9        7\n",
       "top     Acuna       OF\n",
       "freq        1        3"
      ]
     },
     "execution_count": 9,
     "metadata": {},
     "output_type": "execute_result"
    }
   ],
   "source": [
    "braves_df.describe()"
   ]
  },
  {
   "cell_type": "code",
   "execution_count": 10,
   "id": "2e3dff47",
   "metadata": {},
   "outputs": [
    {
     "data": {
      "text/plain": [
       "0      Acuna\n",
       "1    Swanson\n",
       "2      Olsen\n",
       "3      Riley\n",
       "4      Ozuna\n",
       "Name: Player, dtype: object"
      ]
     },
     "execution_count": 10,
     "metadata": {},
     "output_type": "execute_result"
    }
   ],
   "source": [
    "braves_df[\"Player\"].head()"
   ]
  },
  {
   "cell_type": "code",
   "execution_count": 11,
   "id": "9b91984d",
   "metadata": {},
   "outputs": [
    {
     "data": {
      "text/html": [
       "<div>\n",
       "<style scoped>\n",
       "    .dataframe tbody tr th:only-of-type {\n",
       "        vertical-align: middle;\n",
       "    }\n",
       "\n",
       "    .dataframe tbody tr th {\n",
       "        vertical-align: top;\n",
       "    }\n",
       "\n",
       "    .dataframe thead th {\n",
       "        text-align: right;\n",
       "    }\n",
       "</style>\n",
       "<table border=\"1\" class=\"dataframe\">\n",
       "  <thead>\n",
       "    <tr style=\"text-align: right;\">\n",
       "      <th></th>\n",
       "      <th>Player</th>\n",
       "      <th>Position</th>\n",
       "    </tr>\n",
       "  </thead>\n",
       "  <tbody>\n",
       "    <tr>\n",
       "      <th>0</th>\n",
       "      <td>Acuna</td>\n",
       "      <td>OF</td>\n",
       "    </tr>\n",
       "    <tr>\n",
       "      <th>1</th>\n",
       "      <td>Swanson</td>\n",
       "      <td>SS</td>\n",
       "    </tr>\n",
       "    <tr>\n",
       "      <th>2</th>\n",
       "      <td>Olsen</td>\n",
       "      <td>1B</td>\n",
       "    </tr>\n",
       "    <tr>\n",
       "      <th>3</th>\n",
       "      <td>Riley</td>\n",
       "      <td>3B</td>\n",
       "    </tr>\n",
       "    <tr>\n",
       "      <th>4</th>\n",
       "      <td>Ozuna</td>\n",
       "      <td>DH</td>\n",
       "    </tr>\n",
       "  </tbody>\n",
       "</table>\n",
       "</div>"
      ],
      "text/plain": [
       "    Player Position\n",
       "0    Acuna       OF\n",
       "1  Swanson       SS\n",
       "2    Olsen       1B\n",
       "3    Riley       3B\n",
       "4    Ozuna       DH"
      ]
     },
     "execution_count": 11,
     "metadata": {},
     "output_type": "execute_result"
    }
   ],
   "source": [
    "braves_df[[\"Player\", \"Position\"]].head()"
   ]
  },
  {
   "cell_type": "code",
   "execution_count": 12,
   "id": "566965db",
   "metadata": {},
   "outputs": [
    {
     "data": {
      "text/plain": [
       "array(['OF', 'SS', '1B', '3B', 'DH', 'C', '2B'], dtype=object)"
      ]
     },
     "execution_count": 12,
     "metadata": {},
     "output_type": "execute_result"
    }
   ],
   "source": [
    "braves_df[\"Position\"].unique()"
   ]
  },
  {
   "cell_type": "code",
   "execution_count": 13,
   "id": "bee3fafb",
   "metadata": {},
   "outputs": [
    {
     "data": {
      "text/plain": [
       "OF    3\n",
       "SS    1\n",
       "1B    1\n",
       "3B    1\n",
       "DH    1\n",
       "C     1\n",
       "2B    1\n",
       "Name: Position, dtype: int64"
      ]
     },
     "execution_count": 13,
     "metadata": {},
     "output_type": "execute_result"
    }
   ],
   "source": [
    "braves_df[\"Position\"].value_counts()"
   ]
  },
  {
   "cell_type": "code",
   "execution_count": 14,
   "id": "ae00ac4e",
   "metadata": {},
   "outputs": [],
   "source": [
    "bravesHR = [\"9\", \"14\", \"13\", \"20\", \"8\", \"9\", \"12\", \"2\", \"5\"]"
   ]
  },
  {
   "cell_type": "code",
   "execution_count": 15,
   "id": "5580f2b2",
   "metadata": {},
   "outputs": [],
   "source": [
    "braves_df[\"HR\"] = bravesHR"
   ]
  },
  {
   "cell_type": "code",
   "execution_count": 16,
   "id": "a2ae3865",
   "metadata": {},
   "outputs": [
    {
     "data": {
      "text/html": [
       "<div>\n",
       "<style scoped>\n",
       "    .dataframe tbody tr th:only-of-type {\n",
       "        vertical-align: middle;\n",
       "    }\n",
       "\n",
       "    .dataframe tbody tr th {\n",
       "        vertical-align: top;\n",
       "    }\n",
       "\n",
       "    .dataframe thead th {\n",
       "        text-align: right;\n",
       "    }\n",
       "</style>\n",
       "<table border=\"1\" class=\"dataframe\">\n",
       "  <thead>\n",
       "    <tr style=\"text-align: right;\">\n",
       "      <th></th>\n",
       "      <th>Player</th>\n",
       "      <th>Position</th>\n",
       "      <th>HR</th>\n",
       "    </tr>\n",
       "  </thead>\n",
       "  <tbody>\n",
       "    <tr>\n",
       "      <th>0</th>\n",
       "      <td>Acuna</td>\n",
       "      <td>OF</td>\n",
       "      <td>9</td>\n",
       "    </tr>\n",
       "    <tr>\n",
       "      <th>1</th>\n",
       "      <td>Swanson</td>\n",
       "      <td>SS</td>\n",
       "      <td>14</td>\n",
       "    </tr>\n",
       "    <tr>\n",
       "      <th>2</th>\n",
       "      <td>Olsen</td>\n",
       "      <td>1B</td>\n",
       "      <td>13</td>\n",
       "    </tr>\n",
       "    <tr>\n",
       "      <th>3</th>\n",
       "      <td>Riley</td>\n",
       "      <td>3B</td>\n",
       "      <td>20</td>\n",
       "    </tr>\n",
       "    <tr>\n",
       "      <th>4</th>\n",
       "      <td>Ozuna</td>\n",
       "      <td>DH</td>\n",
       "      <td>8</td>\n",
       "    </tr>\n",
       "    <tr>\n",
       "      <th>5</th>\n",
       "      <td>d'Arnaud</td>\n",
       "      <td>C</td>\n",
       "      <td>9</td>\n",
       "    </tr>\n",
       "    <tr>\n",
       "      <th>6</th>\n",
       "      <td>Duval</td>\n",
       "      <td>OF</td>\n",
       "      <td>12</td>\n",
       "    </tr>\n",
       "    <tr>\n",
       "      <th>7</th>\n",
       "      <td>Arcia</td>\n",
       "      <td>2B</td>\n",
       "      <td>2</td>\n",
       "    </tr>\n",
       "    <tr>\n",
       "      <th>8</th>\n",
       "      <td>Harris</td>\n",
       "      <td>OF</td>\n",
       "      <td>5</td>\n",
       "    </tr>\n",
       "  </tbody>\n",
       "</table>\n",
       "</div>"
      ],
      "text/plain": [
       "     Player Position  HR\n",
       "0     Acuna       OF   9\n",
       "1   Swanson       SS  14\n",
       "2     Olsen       1B  13\n",
       "3     Riley       3B  20\n",
       "4     Ozuna       DH   8\n",
       "5  d'Arnaud        C   9\n",
       "6     Duval       OF  12\n",
       "7     Arcia       2B   2\n",
       "8    Harris       OF   5"
      ]
     },
     "execution_count": 16,
     "metadata": {},
     "output_type": "execute_result"
    }
   ],
   "source": [
    "braves_df"
   ]
  },
  {
   "cell_type": "code",
   "execution_count": 27,
   "id": "bed2e94e",
   "metadata": {},
   "outputs": [
    {
     "data": {
      "text/plain": [
       "Player         object\n",
       "Position       object\n",
       "HR             object\n",
       "Projeted HR    object\n",
       "dtype: object"
      ]
     },
     "execution_count": 27,
     "metadata": {},
     "output_type": "execute_result"
    }
   ],
   "source": [
    "braves_df.dtypes"
   ]
  },
  {
   "cell_type": "code",
   "execution_count": 34,
   "id": "46b25756",
   "metadata": {},
   "outputs": [],
   "source": [
    "braves_df = braves_df.astype({\"HR\": \"int64\"}, errors=\"raise\")"
   ]
  },
  {
   "cell_type": "code",
   "execution_count": 35,
   "id": "8803b280",
   "metadata": {},
   "outputs": [
    {
     "data": {
      "text/plain": [
       "Player         object\n",
       "Position       object\n",
       "HR              int64\n",
       "Projeted HR    object\n",
       "dtype: object"
      ]
     },
     "execution_count": 35,
     "metadata": {},
     "output_type": "execute_result"
    }
   ],
   "source": [
    "braves_df.dtypes"
   ]
  },
  {
   "cell_type": "code",
   "execution_count": 36,
   "id": "a3100bf9",
   "metadata": {},
   "outputs": [],
   "source": [
    "\n",
    "projectedHR = braves_df[\"HR\"]*2\n",
    "braves_df[\"Projeted HR\"] = projectedHR"
   ]
  },
  {
   "cell_type": "code",
   "execution_count": 37,
   "id": "90c99d1f",
   "metadata": {},
   "outputs": [
    {
     "data": {
      "text/html": [
       "<div>\n",
       "<style scoped>\n",
       "    .dataframe tbody tr th:only-of-type {\n",
       "        vertical-align: middle;\n",
       "    }\n",
       "\n",
       "    .dataframe tbody tr th {\n",
       "        vertical-align: top;\n",
       "    }\n",
       "\n",
       "    .dataframe thead th {\n",
       "        text-align: right;\n",
       "    }\n",
       "</style>\n",
       "<table border=\"1\" class=\"dataframe\">\n",
       "  <thead>\n",
       "    <tr style=\"text-align: right;\">\n",
       "      <th></th>\n",
       "      <th>Player</th>\n",
       "      <th>Position</th>\n",
       "      <th>HR</th>\n",
       "      <th>Projeted HR</th>\n",
       "    </tr>\n",
       "  </thead>\n",
       "  <tbody>\n",
       "    <tr>\n",
       "      <th>0</th>\n",
       "      <td>Acuna</td>\n",
       "      <td>OF</td>\n",
       "      <td>9</td>\n",
       "      <td>18</td>\n",
       "    </tr>\n",
       "    <tr>\n",
       "      <th>1</th>\n",
       "      <td>Swanson</td>\n",
       "      <td>SS</td>\n",
       "      <td>14</td>\n",
       "      <td>28</td>\n",
       "    </tr>\n",
       "    <tr>\n",
       "      <th>2</th>\n",
       "      <td>Olsen</td>\n",
       "      <td>1B</td>\n",
       "      <td>13</td>\n",
       "      <td>26</td>\n",
       "    </tr>\n",
       "    <tr>\n",
       "      <th>3</th>\n",
       "      <td>Riley</td>\n",
       "      <td>3B</td>\n",
       "      <td>20</td>\n",
       "      <td>40</td>\n",
       "    </tr>\n",
       "    <tr>\n",
       "      <th>4</th>\n",
       "      <td>Ozuna</td>\n",
       "      <td>DH</td>\n",
       "      <td>8</td>\n",
       "      <td>16</td>\n",
       "    </tr>\n",
       "    <tr>\n",
       "      <th>5</th>\n",
       "      <td>d'Arnaud</td>\n",
       "      <td>C</td>\n",
       "      <td>9</td>\n",
       "      <td>18</td>\n",
       "    </tr>\n",
       "    <tr>\n",
       "      <th>6</th>\n",
       "      <td>Duval</td>\n",
       "      <td>OF</td>\n",
       "      <td>12</td>\n",
       "      <td>24</td>\n",
       "    </tr>\n",
       "    <tr>\n",
       "      <th>7</th>\n",
       "      <td>Arcia</td>\n",
       "      <td>2B</td>\n",
       "      <td>2</td>\n",
       "      <td>4</td>\n",
       "    </tr>\n",
       "    <tr>\n",
       "      <th>8</th>\n",
       "      <td>Harris</td>\n",
       "      <td>OF</td>\n",
       "      <td>5</td>\n",
       "      <td>10</td>\n",
       "    </tr>\n",
       "  </tbody>\n",
       "</table>\n",
       "</div>"
      ],
      "text/plain": [
       "     Player Position  HR  Projeted HR\n",
       "0     Acuna       OF   9           18\n",
       "1   Swanson       SS  14           28\n",
       "2     Olsen       1B  13           26\n",
       "3     Riley       3B  20           40\n",
       "4     Ozuna       DH   8           16\n",
       "5  d'Arnaud        C   9           18\n",
       "6     Duval       OF  12           24\n",
       "7     Arcia       2B   2            4\n",
       "8    Harris       OF   5           10"
      ]
     },
     "execution_count": 37,
     "metadata": {},
     "output_type": "execute_result"
    }
   ],
   "source": [
    "braves_df"
   ]
  },
  {
   "cell_type": "code",
   "execution_count": 38,
   "id": "09a5c30b",
   "metadata": {},
   "outputs": [
    {
     "data": {
      "text/plain": [
       "18    2\n",
       "28    1\n",
       "26    1\n",
       "40    1\n",
       "16    1\n",
       "24    1\n",
       "4     1\n",
       "10    1\n",
       "Name: Projeted HR, dtype: int64"
      ]
     },
     "execution_count": 38,
     "metadata": {},
     "output_type": "execute_result"
    }
   ],
   "source": [
    "braves_df[\"Projeted HR\"].value_counts()"
   ]
  },
  {
   "cell_type": "code",
   "execution_count": 39,
   "id": "29abeef5",
   "metadata": {},
   "outputs": [
    {
     "data": {
      "text/plain": [
       "Index(['Player', 'Position', 'HR', 'Projeted HR'], dtype='object')"
      ]
     },
     "execution_count": 39,
     "metadata": {},
     "output_type": "execute_result"
    }
   ],
   "source": [
    "braves_df.columns"
   ]
  },
  {
   "cell_type": "code",
   "execution_count": 40,
   "id": "ae33c9f5",
   "metadata": {},
   "outputs": [
    {
     "data": {
      "text/html": [
       "<div>\n",
       "<style scoped>\n",
       "    .dataframe tbody tr th:only-of-type {\n",
       "        vertical-align: middle;\n",
       "    }\n",
       "\n",
       "    .dataframe tbody tr th {\n",
       "        vertical-align: top;\n",
       "    }\n",
       "\n",
       "    .dataframe thead th {\n",
       "        text-align: right;\n",
       "    }\n",
       "</style>\n",
       "<table border=\"1\" class=\"dataframe\">\n",
       "  <thead>\n",
       "    <tr style=\"text-align: right;\">\n",
       "      <th></th>\n",
       "      <th>Position</th>\n",
       "      <th>Player</th>\n",
       "      <th>HR</th>\n",
       "    </tr>\n",
       "  </thead>\n",
       "  <tbody>\n",
       "    <tr>\n",
       "      <th>0</th>\n",
       "      <td>OF</td>\n",
       "      <td>Acuna</td>\n",
       "      <td>9</td>\n",
       "    </tr>\n",
       "    <tr>\n",
       "      <th>1</th>\n",
       "      <td>SS</td>\n",
       "      <td>Swanson</td>\n",
       "      <td>14</td>\n",
       "    </tr>\n",
       "    <tr>\n",
       "      <th>2</th>\n",
       "      <td>1B</td>\n",
       "      <td>Olsen</td>\n",
       "      <td>13</td>\n",
       "    </tr>\n",
       "    <tr>\n",
       "      <th>3</th>\n",
       "      <td>3B</td>\n",
       "      <td>Riley</td>\n",
       "      <td>20</td>\n",
       "    </tr>\n",
       "    <tr>\n",
       "      <th>4</th>\n",
       "      <td>DH</td>\n",
       "      <td>Ozuna</td>\n",
       "      <td>8</td>\n",
       "    </tr>\n",
       "    <tr>\n",
       "      <th>5</th>\n",
       "      <td>C</td>\n",
       "      <td>d'Arnaud</td>\n",
       "      <td>9</td>\n",
       "    </tr>\n",
       "    <tr>\n",
       "      <th>6</th>\n",
       "      <td>OF</td>\n",
       "      <td>Duval</td>\n",
       "      <td>12</td>\n",
       "    </tr>\n",
       "    <tr>\n",
       "      <th>7</th>\n",
       "      <td>2B</td>\n",
       "      <td>Arcia</td>\n",
       "      <td>2</td>\n",
       "    </tr>\n",
       "    <tr>\n",
       "      <th>8</th>\n",
       "      <td>OF</td>\n",
       "      <td>Harris</td>\n",
       "      <td>5</td>\n",
       "    </tr>\n",
       "  </tbody>\n",
       "</table>\n",
       "</div>"
      ],
      "text/plain": [
       "  Position    Player  HR\n",
       "0       OF     Acuna   9\n",
       "1       SS   Swanson  14\n",
       "2       1B     Olsen  13\n",
       "3       3B     Riley  20\n",
       "4       DH     Ozuna   8\n",
       "5        C  d'Arnaud   9\n",
       "6       OF     Duval  12\n",
       "7       2B     Arcia   2\n",
       "8       OF    Harris   5"
      ]
     },
     "execution_count": 40,
     "metadata": {},
     "output_type": "execute_result"
    }
   ],
   "source": [
    "braves_new_df = braves_df[[\"Position\", \"Player\", \"HR\"]]\n",
    "braves_new_df"
   ]
  },
  {
   "cell_type": "code",
   "execution_count": 41,
   "id": "00093389",
   "metadata": {},
   "outputs": [
    {
     "data": {
      "text/html": [
       "<div>\n",
       "<style scoped>\n",
       "    .dataframe tbody tr th:only-of-type {\n",
       "        vertical-align: middle;\n",
       "    }\n",
       "\n",
       "    .dataframe tbody tr th {\n",
       "        vertical-align: top;\n",
       "    }\n",
       "\n",
       "    .dataframe thead th {\n",
       "        text-align: right;\n",
       "    }\n",
       "</style>\n",
       "<table border=\"1\" class=\"dataframe\">\n",
       "  <thead>\n",
       "    <tr style=\"text-align: right;\">\n",
       "      <th></th>\n",
       "      <th>Player</th>\n",
       "      <th>Position</th>\n",
       "      <th>HR</th>\n",
       "      <th>Projected HRs</th>\n",
       "    </tr>\n",
       "  </thead>\n",
       "  <tbody>\n",
       "    <tr>\n",
       "      <th>0</th>\n",
       "      <td>Acuna</td>\n",
       "      <td>OF</td>\n",
       "      <td>9</td>\n",
       "      <td>18</td>\n",
       "    </tr>\n",
       "    <tr>\n",
       "      <th>1</th>\n",
       "      <td>Swanson</td>\n",
       "      <td>SS</td>\n",
       "      <td>14</td>\n",
       "      <td>28</td>\n",
       "    </tr>\n",
       "    <tr>\n",
       "      <th>2</th>\n",
       "      <td>Olsen</td>\n",
       "      <td>1B</td>\n",
       "      <td>13</td>\n",
       "      <td>26</td>\n",
       "    </tr>\n",
       "    <tr>\n",
       "      <th>3</th>\n",
       "      <td>Riley</td>\n",
       "      <td>3B</td>\n",
       "      <td>20</td>\n",
       "      <td>40</td>\n",
       "    </tr>\n",
       "    <tr>\n",
       "      <th>4</th>\n",
       "      <td>Ozuna</td>\n",
       "      <td>DH</td>\n",
       "      <td>8</td>\n",
       "      <td>16</td>\n",
       "    </tr>\n",
       "    <tr>\n",
       "      <th>5</th>\n",
       "      <td>d'Arnaud</td>\n",
       "      <td>C</td>\n",
       "      <td>9</td>\n",
       "      <td>18</td>\n",
       "    </tr>\n",
       "    <tr>\n",
       "      <th>6</th>\n",
       "      <td>Duval</td>\n",
       "      <td>OF</td>\n",
       "      <td>12</td>\n",
       "      <td>24</td>\n",
       "    </tr>\n",
       "    <tr>\n",
       "      <th>7</th>\n",
       "      <td>Arcia</td>\n",
       "      <td>2B</td>\n",
       "      <td>2</td>\n",
       "      <td>4</td>\n",
       "    </tr>\n",
       "    <tr>\n",
       "      <th>8</th>\n",
       "      <td>Harris</td>\n",
       "      <td>OF</td>\n",
       "      <td>5</td>\n",
       "      <td>10</td>\n",
       "    </tr>\n",
       "  </tbody>\n",
       "</table>\n",
       "</div>"
      ],
      "text/plain": [
       "     Player Position  HR  Projected HRs\n",
       "0     Acuna       OF   9             18\n",
       "1   Swanson       SS  14             28\n",
       "2     Olsen       1B  13             26\n",
       "3     Riley       3B  20             40\n",
       "4     Ozuna       DH   8             16\n",
       "5  d'Arnaud        C   9             18\n",
       "6     Duval       OF  12             24\n",
       "7     Arcia       2B   2              4\n",
       "8    Harris       OF   5             10"
      ]
     },
     "execution_count": 41,
     "metadata": {},
     "output_type": "execute_result"
    }
   ],
   "source": [
    "rename_braves_df = braves_df.rename(columns={\"Projeted HR\":\"Projected HRs\"})\n",
    "rename_braves_df"
   ]
  },
  {
   "cell_type": "code",
   "execution_count": 42,
   "id": "4565db36",
   "metadata": {},
   "outputs": [
    {
     "data": {
      "text/html": [
       "<div>\n",
       "<style scoped>\n",
       "    .dataframe tbody tr th:only-of-type {\n",
       "        vertical-align: middle;\n",
       "    }\n",
       "\n",
       "    .dataframe tbody tr th {\n",
       "        vertical-align: top;\n",
       "    }\n",
       "\n",
       "    .dataframe thead th {\n",
       "        text-align: right;\n",
       "    }\n",
       "</style>\n",
       "<table border=\"1\" class=\"dataframe\">\n",
       "  <thead>\n",
       "    <tr style=\"text-align: right;\">\n",
       "      <th></th>\n",
       "      <th>Player</th>\n",
       "      <th>Position</th>\n",
       "      <th>HR</th>\n",
       "      <th>Projected HRs</th>\n",
       "    </tr>\n",
       "  </thead>\n",
       "  <tbody>\n",
       "    <tr>\n",
       "      <th>0</th>\n",
       "      <td>Acuna</td>\n",
       "      <td>OF</td>\n",
       "      <td>9</td>\n",
       "      <td>18</td>\n",
       "    </tr>\n",
       "    <tr>\n",
       "      <th>6</th>\n",
       "      <td>Duval</td>\n",
       "      <td>OF</td>\n",
       "      <td>12</td>\n",
       "      <td>24</td>\n",
       "    </tr>\n",
       "    <tr>\n",
       "      <th>8</th>\n",
       "      <td>Harris</td>\n",
       "      <td>OF</td>\n",
       "      <td>5</td>\n",
       "      <td>10</td>\n",
       "    </tr>\n",
       "  </tbody>\n",
       "</table>\n",
       "</div>"
      ],
      "text/plain": [
       "   Player Position  HR  Projected HRs\n",
       "0   Acuna       OF   9             18\n",
       "6   Duval       OF  12             24\n",
       "8  Harris       OF   5             10"
      ]
     },
     "execution_count": 42,
     "metadata": {},
     "output_type": "execute_result"
    }
   ],
   "source": [
    "rename_braves_df.loc[(rename_braves_df[\"Position\"] == \"OF\"), :]"
   ]
  },
  {
   "cell_type": "code",
   "execution_count": null,
   "id": "2381bb77",
   "metadata": {},
   "outputs": [],
   "source": []
  }
 ],
 "metadata": {
  "kernelspec": {
   "display_name": "Python 3 (ipykernel)",
   "language": "python",
   "name": "python3"
  },
  "language_info": {
   "codemirror_mode": {
    "name": "ipython",
    "version": 3
   },
   "file_extension": ".py",
   "mimetype": "text/x-python",
   "name": "python",
   "nbconvert_exporter": "python",
   "pygments_lexer": "ipython3",
   "version": "3.9.7"
  }
 },
 "nbformat": 4,
 "nbformat_minor": 5
}
